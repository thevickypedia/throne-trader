{
 "cells": [
  {
   "cell_type": "code",
   "execution_count": 1,
   "id": "a2e7c3a8",
   "metadata": {},
   "outputs": [
    {
     "name": "stdout",
     "output_type": "stream",
     "text": [
      "Installed kernelspec throne_trader_venv in /Users/vicky/Library/Jupyter/kernels/throne_trader_venv\r\n"
     ]
    }
   ],
   "source": [
    "!ipython kernel install --user --name=throne_trader_venv"
   ]
  },
  {
   "cell_type": "code",
   "execution_count": 2,
   "id": "6dd09dd5",
   "metadata": {},
   "outputs": [
    {
     "name": "stdout",
     "output_type": "stream",
     "text": [
      "\u001b[33mDEPRECATION: Configuring installation scheme with distutils config files is deprecated and will no longer work in the near future. If you are using a Homebrew or Linuxbrew Python, please see discussion at https://github.com/Homebrew/homebrew-core/issues/76621\u001b[0m\u001b[33m\n",
      "\u001b[0m\u001b[33mDEPRECATION: Configuring installation scheme with distutils config files is deprecated and will no longer work in the near future. If you are using a Homebrew or Linuxbrew Python, please see discussion at https://github.com/Homebrew/homebrew-core/issues/76621\u001b[0m\u001b[33m\n",
      "\u001b[0m\u001b[33mDEPRECATION: Configuring installation scheme with distutils config files is deprecated and will no longer work in the near future. If you are using a Homebrew or Linuxbrew Python, please see discussion at https://github.com/Homebrew/homebrew-core/issues/76621\u001b[0m\u001b[33m\n",
      "\u001b[0m\u001b[33mDEPRECATION: Configuring installation scheme with distutils config files is deprecated and will no longer work in the near future. If you are using a Homebrew or Linuxbrew Python, please see discussion at https://github.com/Homebrew/homebrew-core/issues/76621\u001b[0m\u001b[33m\n",
      "\u001b[0m"
     ]
    }
   ],
   "source": [
    "!pip install -qU --upgrade pip\n",
    "!pip install -qU scikit-learn yfinance numpy pandas"
   ]
  },
  {
   "cell_type": "markdown",
   "id": "6fbbea11",
   "metadata": {},
   "source": [
    "### Import required modules"
   ]
  },
  {
   "cell_type": "code",
   "execution_count": 3,
   "id": "26e87599",
   "metadata": {},
   "outputs": [],
   "source": [
    "from datetime import datetime, timedelta\n",
    "from typing import Dict, List, Tuple, Union\n",
    "\n",
    "import numpy as np\n",
    "import pandas as pd\n",
    "import yfinance\n",
    "from sklearn.ensemble import GradientBoostingRegressor"
   ]
  },
  {
   "cell_type": "markdown",
   "id": "b8706a14",
   "metadata": {},
   "source": [
    "### Set ticker and threshold"
   ]
  },
  {
   "cell_type": "code",
   "execution_count": 4,
   "id": "be3d776d",
   "metadata": {},
   "outputs": [],
   "source": [
    "TICKER = \"GOOGL\"\n",
    "THRESHOLD = 5"
   ]
  },
  {
   "cell_type": "code",
   "execution_count": 5,
   "id": "c53e5659",
   "metadata": {},
   "outputs": [],
   "source": [
    "def get_historical_data(symbol: str,\n",
    "                        years: int = 1) -> Union[List[Tuple[str, float]], pd.DataFrame]:\n",
    "    print(f\"Downloading stock data for {symbol} for {years} years.\")\n",
    "    start = (datetime.now() - timedelta(days=years * 365)).strftime(\"%Y-%m-%d\")\n",
    "    end = datetime.now().strftime(\"%Y-%m-%d\")\n",
    "    stock_data = yfinance.download(symbol, start=start, end=end)\n",
    "    return [(date.strftime(\"%Y-%m-%d\"), close_price) for date, close_price in\n",
    "            zip(stock_data.index, stock_data['Close'])]"
   ]
  },
  {
   "cell_type": "code",
   "execution_count": 6,
   "id": "7da730bf",
   "metadata": {},
   "outputs": [
    {
     "name": "stdout",
     "output_type": "stream",
     "text": [
      "Downloading stock data for GOOGL for 5 years.\n",
      "[*********************100%***********************]  1 of 1 completed\n"
     ]
    }
   ],
   "source": [
    "stock_data = get_historical_data(symbol=TICKER, years=5)"
   ]
  },
  {
   "cell_type": "code",
   "execution_count": 7,
   "id": "2716e82e",
   "metadata": {},
   "outputs": [],
   "source": [
    "dates, close_prices = zip(*stock_data)\n",
    "x = np.arange(len(dates)).reshape(-1, 1)\n",
    "y = np.array(close_prices)"
   ]
  },
  {
   "cell_type": "markdown",
   "id": "358795c2",
   "metadata": {},
   "source": [
    "### Train a Gradient Boosting Regressor model"
   ]
  },
  {
   "cell_type": "code",
   "execution_count": 8,
   "id": "f44eca82",
   "metadata": {},
   "outputs": [
    {
     "data": {
      "text/html": [
       "<style>#sk-container-id-1 {color: black;}#sk-container-id-1 pre{padding: 0;}#sk-container-id-1 div.sk-toggleable {background-color: white;}#sk-container-id-1 label.sk-toggleable__label {cursor: pointer;display: block;width: 100%;margin-bottom: 0;padding: 0.3em;box-sizing: border-box;text-align: center;}#sk-container-id-1 label.sk-toggleable__label-arrow:before {content: \"▸\";float: left;margin-right: 0.25em;color: #696969;}#sk-container-id-1 label.sk-toggleable__label-arrow:hover:before {color: black;}#sk-container-id-1 div.sk-estimator:hover label.sk-toggleable__label-arrow:before {color: black;}#sk-container-id-1 div.sk-toggleable__content {max-height: 0;max-width: 0;overflow: hidden;text-align: left;background-color: #f0f8ff;}#sk-container-id-1 div.sk-toggleable__content pre {margin: 0.2em;color: black;border-radius: 0.25em;background-color: #f0f8ff;}#sk-container-id-1 input.sk-toggleable__control:checked~div.sk-toggleable__content {max-height: 200px;max-width: 100%;overflow: auto;}#sk-container-id-1 input.sk-toggleable__control:checked~label.sk-toggleable__label-arrow:before {content: \"▾\";}#sk-container-id-1 div.sk-estimator input.sk-toggleable__control:checked~label.sk-toggleable__label {background-color: #d4ebff;}#sk-container-id-1 div.sk-label input.sk-toggleable__control:checked~label.sk-toggleable__label {background-color: #d4ebff;}#sk-container-id-1 input.sk-hidden--visually {border: 0;clip: rect(1px 1px 1px 1px);clip: rect(1px, 1px, 1px, 1px);height: 1px;margin: -1px;overflow: hidden;padding: 0;position: absolute;width: 1px;}#sk-container-id-1 div.sk-estimator {font-family: monospace;background-color: #f0f8ff;border: 1px dotted black;border-radius: 0.25em;box-sizing: border-box;margin-bottom: 0.5em;}#sk-container-id-1 div.sk-estimator:hover {background-color: #d4ebff;}#sk-container-id-1 div.sk-parallel-item::after {content: \"\";width: 100%;border-bottom: 1px solid gray;flex-grow: 1;}#sk-container-id-1 div.sk-label:hover label.sk-toggleable__label {background-color: #d4ebff;}#sk-container-id-1 div.sk-serial::before {content: \"\";position: absolute;border-left: 1px solid gray;box-sizing: border-box;top: 0;bottom: 0;left: 50%;z-index: 0;}#sk-container-id-1 div.sk-serial {display: flex;flex-direction: column;align-items: center;background-color: white;padding-right: 0.2em;padding-left: 0.2em;position: relative;}#sk-container-id-1 div.sk-item {position: relative;z-index: 1;}#sk-container-id-1 div.sk-parallel {display: flex;align-items: stretch;justify-content: center;background-color: white;position: relative;}#sk-container-id-1 div.sk-item::before, #sk-container-id-1 div.sk-parallel-item::before {content: \"\";position: absolute;border-left: 1px solid gray;box-sizing: border-box;top: 0;bottom: 0;left: 50%;z-index: -1;}#sk-container-id-1 div.sk-parallel-item {display: flex;flex-direction: column;z-index: 1;position: relative;background-color: white;}#sk-container-id-1 div.sk-parallel-item:first-child::after {align-self: flex-end;width: 50%;}#sk-container-id-1 div.sk-parallel-item:last-child::after {align-self: flex-start;width: 50%;}#sk-container-id-1 div.sk-parallel-item:only-child::after {width: 0;}#sk-container-id-1 div.sk-dashed-wrapped {border: 1px dashed gray;margin: 0 0.4em 0.5em 0.4em;box-sizing: border-box;padding-bottom: 0.4em;background-color: white;}#sk-container-id-1 div.sk-label label {font-family: monospace;font-weight: bold;display: inline-block;line-height: 1.2em;}#sk-container-id-1 div.sk-label-container {text-align: center;}#sk-container-id-1 div.sk-container {/* jupyter's `normalize.less` sets `[hidden] { display: none; }` but bootstrap.min.css set `[hidden] { display: none !important; }` so we also need the `!important` here to be able to override the default hidden behavior on the sphinx rendered scikit-learn.org. See: https://github.com/scikit-learn/scikit-learn/issues/21755 */display: inline-block !important;position: relative;}#sk-container-id-1 div.sk-text-repr-fallback {display: none;}</style><div id=\"sk-container-id-1\" class=\"sk-top-container\"><div class=\"sk-text-repr-fallback\"><pre>GradientBoostingRegressor()</pre><b>In a Jupyter environment, please rerun this cell to show the HTML representation or trust the notebook. <br />On GitHub, the HTML representation is unable to render, please try loading this page with nbviewer.org.</b></div><div class=\"sk-container\" hidden><div class=\"sk-item\"><div class=\"sk-estimator sk-toggleable\"><input class=\"sk-toggleable__control sk-hidden--visually\" id=\"sk-estimator-id-1\" type=\"checkbox\" checked><label for=\"sk-estimator-id-1\" class=\"sk-toggleable__label sk-toggleable__label-arrow\">GradientBoostingRegressor</label><div class=\"sk-toggleable__content\"><pre>GradientBoostingRegressor()</pre></div></div></div></div></div>"
      ],
      "text/plain": [
       "GradientBoostingRegressor()"
      ]
     },
     "execution_count": 8,
     "metadata": {},
     "output_type": "execute_result"
    }
   ],
   "source": [
    "model = GradientBoostingRegressor()\n",
    "model.fit(x, y)"
   ]
  },
  {
   "cell_type": "markdown",
   "id": "60ec91f9",
   "metadata": {},
   "source": [
    "### Predict the stock prices for the next two days"
   ]
  },
  {
   "cell_type": "code",
   "execution_count": 9,
   "id": "f50f33b1",
   "metadata": {},
   "outputs": [],
   "source": [
    "next_days = np.array([len(dates), len(dates) + 1]).reshape(-1, 1)\n",
    "predictions = model.predict(next_days)"
   ]
  },
  {
   "cell_type": "markdown",
   "id": "d0c6806a",
   "metadata": {},
   "source": [
    "### Calculate difference between the predictions and generate signals based on those predictions"
   ]
  },
  {
   "cell_type": "code",
   "execution_count": 10,
   "id": "c2d77439",
   "metadata": {},
   "outputs": [],
   "source": [
    "diff = predictions[1] - predictions[0]\n",
    "\n",
    "signals = {\"ticker\": TICKER}\n",
    "if diff >= THRESHOLD:\n",
    "    analysis = signals | {\"signal\": \"buy\", \"signal_rate\": \"strong buy\", \"recommendation\": \"hold\"}\n",
    "elif -THRESHOLD <= diff <= THRESHOLD:\n",
    "    analysis = signals | {\"signal\": \"hold\", \"signal_rate\": \"neutral\", \"recommendation\": \"hold\"}\n",
    "else:\n",
    "    analysis = signals | {\"signal\": \"sell\", \"signal_rate\": \"strong sell\", \"recommendation\": \"hold\"}"
   ]
  },
  {
   "cell_type": "code",
   "execution_count": 11,
   "id": "e9a265a7",
   "metadata": {},
   "outputs": [
    {
     "data": {
      "text/plain": [
       "{'ticker': 'GOOGL',\n",
       " 'signal': 'hold',\n",
       " 'signal_rate': 'neutral',\n",
       " 'recommendation': 'hold'}"
      ]
     },
     "execution_count": 11,
     "metadata": {},
     "output_type": "execute_result"
    }
   ],
   "source": [
    "analysis"
   ]
  },
  {
   "cell_type": "code",
   "execution_count": null,
   "id": "cdabf3c0",
   "metadata": {},
   "outputs": [],
   "source": []
  }
 ],
 "metadata": {
  "kernelspec": {
   "display_name": "throne_trader_venv",
   "language": "python",
   "name": "throne_trader_venv"
  },
  "language_info": {
   "codemirror_mode": {
    "name": "ipython",
    "version": 3
   },
   "file_extension": ".py",
   "mimetype": "text/x-python",
   "name": "python",
   "nbconvert_exporter": "python",
   "pygments_lexer": "ipython3",
   "version": "3.9.17"
  }
 },
 "nbformat": 4,
 "nbformat_minor": 5
}
